{
  "nbformat": 4,
  "nbformat_minor": 0,
  "metadata": {
    "colab": {
      "name": "Assignment3_Manisha.ipynb",
      "provenance": [],
      "collapsed_sections": []
    },
    "kernelspec": {
      "name": "python3",
      "display_name": "Python 3"
    },
    "language_info": {
      "name": "python"
    }
  },
  "cells": [
    {
      "cell_type": "code",
      "execution_count": 1,
      "metadata": {
        "id": "H9rvaZemyDS6"
      },
      "outputs": [],
      "source": [
        "# Making the imports\n",
        "import numpy as np\n",
        "import pandas as pd\n",
        "import matplotlib.pyplot as plt\n",
        "from sklearn.metrics import mean_squared_error, r2_score\n",
        "\n",
        "\n"
      ]
    },
    {
      "cell_type": "code",
      "source": [
        "# Preprocessing Input data\n",
        "data = pd.read_csv('data_new.csv')\n",
        "data.head()\n",
        "#deviding data in 2 parts  where y is responce variable and X is predictor variable\n",
        "X = data.iloc[:, 0]\n",
        "y = data.iloc[:, 1]\n",
        "# display of xy variables\n",
        "plt.xlabel('X variable')\n",
        "plt.ylabel('Y variable')\n",
        "plt.scatter(X, y)\n",
        "plt.show()"
      ],
      "metadata": {
        "colab": {
          "base_uri": "https://localhost:8080/",
          "height": 279
        },
        "id": "Amtjn_1czedv",
        "outputId": "478781b8-9178-47eb-8daf-a453dc4613dd"
      },
      "execution_count": 2,
      "outputs": [
        {
          "output_type": "display_data",
          "data": {
            "image/png": "[encoded data removed]",
            "text/plain": [
              "<Figure size 432x288 with 1 Axes>"
            ]
          },
          "metadata": {
            "needs_background": "light"
          }
        }
      ]
    },
    {
      "cell_type": "code",
      "source": [
        "#functions for closed form solution\n",
        "def coef_estimation(x, y):\n",
        "  n = np.size(x)\n",
        "  m_x, m_y = np.mean(x), np.mean(y)\n",
        "  SS_xy=n*np.sum(y*x) - np.sum(x)* np.sum(y)\n",
        "  SS_xx = n *np.sum(x*x) - np.sum(x)*np.sum(x)\n",
        "  #SS_xy = np.sum(y*x) - n*m_y*m_x\n",
        "  #SS_xx = np.sum(x*x) - n*m_x*m_x\n",
        "  b_1 = SS_xy / SS_xx\n",
        "  b_0 = (np.sum(y)*np.sum(x*x) - np.sum(x)*np.sum(x*y))/ SS_xx\n",
        "  return(b_0, b_1)\n",
        "\n",
        "def plot_regression_line(x, y, b):\n",
        "  plt.scatter(x, y, color = \"m\", marker = \"o\", s = 30)\n",
        "  y_pred = b[0] + b[1]*x\n",
        "  plt.plot(x, y_pred, color = \"g\")\n",
        "  plt.xlabel('x')\n",
        "  plt.ylabel('y')\n",
        "  plt.show()\n",
        "\n",
        "def closed_form():\n",
        " \n",
        "   b = coef_estimation(X, y)\n",
        "   y_pred = b[1]*X + b[0]\n",
        "   print(\"Mean squared error: %.2f\" % mean_squared_error(y, y_pred))\n",
        "   print('b=', b)\n",
        "   print(\"Estimated coefficients:\\nb_0 = {} \\nb_1 = {}\".format(b[0], b[1]))\n",
        "   plot_regression_line(X, y, b)\n",
        "\n",
        "\n",
        "\n"
      ],
      "metadata": {
        "id": "zAmRkec50OuZ"
      },
      "execution_count": 22,
      "outputs": []
    },
    {
      "cell_type": "code",
      "source": [
        ""
      ],
      "metadata": {
        "id": "o2qrHVTZ21mc"
      },
      "execution_count": null,
      "outputs": []
    },
    {
      "cell_type": "code",
      "source": [
        "# Building the model linear gradient descent\n",
        "def Linear_gradient(X, y, L, epochs):\n",
        " m = 0\n",
        " c = 0\n",
        "\n",
        "#L is the learning Rate\n",
        "#epochs is  the number of iterations to perform gradient descent\n",
        "\n",
        " n = float(len(X)) # Number of elements in X\n",
        "\n",
        "# Performing Gradient Descent \n",
        " for i in range(epochs): \n",
        "    y_pred = m*X + c  # The current predicted value of Y\n",
        "    D_m = (-2/n) * sum(X * (y - y_pred))  # Derivative wrt m\n",
        "    D_c = (-2/n) * sum(y - y_pred)  # Derivative wrt c\n",
        "    m = m - L * D_m  # Update m\n",
        "    c = c - L * D_c  # Update c\n",
        " return m, c\n",
        "\n"
      ],
      "metadata": {
        "id": "LHqUScj0zvSc"
      },
      "execution_count": 9,
      "outputs": []
    },
    {
      "cell_type": "code",
      "source": [
        "# Making predictions\n",
        "def Make_prediction(X,y,m,c):\n",
        " y_pred = m*X + c\n",
        " print(\"Mean squared error: %.2f\" % mean_squared_error(y, y_pred))\n",
        "  \n",
        " \n",
        " print(\"Estimated coefficients:\\nb_0 = {} \\nb_1 = {}\".format(m, c))\n",
        "\n",
        " plt.scatter(X, y)\n",
        "\n",
        " plt.plot([min(X), max(X)], [min(y_pred), max(y_pred)], color='red') \n",
        " #plt.show()"
      ],
      "metadata": {
        "id": "Q4ZtBsG-z3lv"
      },
      "execution_count": 12,
      "outputs": []
    },
    {
      "cell_type": "code",
      "source": [
        "print('Closed form solution')\n",
        "closed_form()\n",
        "print('Gradient Descent solution')\n",
        "m, c=Linear_gradient(X, y, 0.0001, 1000)\n",
        "Make_prediction(X,y, m, c)\n"
      ],
      "metadata": {
        "colab": {
          "base_uri": "https://localhost:8080/",
          "height": 718
        },
        "id": "A9Lknr2CuSkB",
        "outputId": "1350a2dc-bc3b-48a4-f242-04a075bddb16"
      },
      "execution_count": 23,
      "outputs": [
        {
          "output_type": "stream",
          "name": "stdout",
          "text": [
            "Closed form solution\n",
            "Mean squared error: 107.47\n",
            "b= (9.908606193482779, 1.2873573699494347)\n",
            "Estimated coefficients:\n",
            "b_0 = 9.908606193482779 \n",
            "b_1 = 1.2873573699494347\n"
          ]
        },
        {
          "output_type": "display_data",
          "data": {
            "image/png": "[encoded data removed]",
            "text/plain": [
              "<Figure size 432x288 with 1 Axes>"
            ]
          },
          "metadata": {
            "needs_background": "light"
          }
        },
        {
          "output_type": "stream",
          "name": "stdout",
          "text": [
            "Gradient Descent solution\n",
            "Mean squared error: 111.01\n",
            "Estimated coefficients:\n",
            "b_0 = 1.4796491688881985 \n",
            "b_1 = 0.10148121497503648\n"
          ]
        },
        {
          "output_type": "display_data",
          "data": {
            "image/png": "[encoded data removed]",
            "text/plain": [
              "<Figure size 432x288 with 1 Axes>"
            ]
          },
          "metadata": {
            "needs_background": "light"
          }
        }
      ]
    },
    {
      "cell_type": "code",
      "source": [
        ""
      ],
      "metadata": {
        "id": "lZLwsmZ3GtGk"
      },
      "execution_count": 26,
      "outputs": []
    }
  ]
}